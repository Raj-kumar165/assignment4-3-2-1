{
 "cells": [
  {
   "cell_type": "code",
   "execution_count": 3,
   "metadata": {},
   "outputs": [
    {
     "name": "stdout",
     "output_type": "stream",
     "text": [
      "[{'first_name': 'Raj', 'last _name': 'Kumar', 'age': 20, 'city': 'Hyderabad'}, {'qualification': 'High academic level'}]\n",
      "[{'first_name': 'Raj', 'last _name': 'Kumar', 'age': 20, 'city': 'Hyderabad'}, {}]\n"
     ]
    }
   ],
   "source": [
    "data = [{'first_name' : 'Raj','last _name' : 'Kumar','age' : 20,'city' : 'Hyderabad',}]\n",
    "qualification = {\"qualification\" : \" \"}\n",
    "data.append(qualification)\n",
    "qualification.update({\"qualification\" : \"High academic level\"})\n",
    "print(data)\n",
    "qualification.popitem()\n",
    "print(data)"
   ]
  },
  {
   "cell_type": "code",
   "execution_count": 10,
   "metadata": {},
   "outputs": [
    {
     "name": "stdout",
     "output_type": "stream",
     "text": [
      "{'Karachi': {'Country': 'Pakistan', 'population': '14.91 million', 'fact': 'It is the Sixth largest city in the world by city population'}, 'Las_Vegas': {'Country': 'USA', 'population': '641,676', 'fact': 'Nuclear bombs were detonated 50 miles from Vegas.'}, 'Toronto': {'Country': 'Canada', 'population': '2.93 million', 'fact': 'Toronto is the world’s fourth most livable city.'}}\n"
     ]
    }
   ],
   "source": [
    "cities_info = {\"Karachi\" : {\"Country\" : \"Pakistan\",\"population\" : \"14.91 million\",\"fact\" : \"It is the Sixth largest city in the world by city population\"},\n",
    "\"Las_Vegas\":   {\"Country\" :  \"USA\",\"population\": \"641,676\",\"fact\" : \"Nuclear bombs were detonated 50 miles from Vegas.\"},\n",
    "\"Toronto\" :    {\"Country\" :   \"Canada\",\"population\": \"2.93 million\",\"fact\" :\"Toronto is the world’s fourth most livable city.\"}}\n",
    "print(cities_info)"
   ]
  },
  {
   "cell_type": "code",
   "execution_count": null,
   "metadata": {},
   "outputs": [
    {
     "name": "stdout",
     "output_type": "stream",
     "text": [
      "Enter your age:20\n",
      "Your ticket cost is 15$\n",
      "Enter your age:23\n",
      "Your ticket cost is 15$\n"
     ]
    }
   ],
   "source": [
    "while True:\n",
    "    age =int(input(\"Enter your age:\"))\n",
    "    if age < 3:\n",
    "        print(\"Your ticket is Free\")\n",
    "    elif age < 13 :\n",
    "        print(\"Your ticket cost is 10$\")\n",
    "    else :\n",
    "        print(\"Your ticket cost is 15$\")"
   ]
  },
  {
   "cell_type": "code",
   "execution_count": null,
   "metadata": {},
   "outputs": [],
   "source": [
    "import random\n",
    "guessestaken= 0\n",
    "num=random.randint(1,30)\n",
    "while guessestaken < 3:\n",
    "    print(\"Guess the number\")\n",
    "    guess = input()\n",
    "    guess = int(guess)\n",
    "\n",
    "    guessestaken =guessestaken + 1\n",
    "\n",
    "    if guess < num:\n",
    "        print(\"Your guess is too low\")\n",
    "    if guess > num:\n",
    "        print(\"Your guess is too high\")\n",
    "    if guess == num:\n",
    "        break\n",
    "\n",
    "if guess == num:\n",
    "    guessestaken =str(guessestaken)\n",
    "    print(\"You guessed it in\" \" \" +guessestaken+ \" \" 'guesses')\n",
    "if guess != num:\n",
    "    guessestaken =str(guessestaken)\n",
    "    print(\"You took all the guesses the number was\" \" \"+str(num))\n"
   ]
  },
  {
   "cell_type": "code",
   "execution_count": null,
   "metadata": {},
   "outputs": [
    {
     "name": "stdout",
     "output_type": "stream",
     "text": [
      "Guess the number\n",
      "6\n",
      "Your guess is too low\n",
      "Guess the number\n"
     ]
    }
   ],
   "source": [
    "import random\n",
    "guessestaken= 0\n",
    "num=random.randint(1,30)\n",
    "while guessestaken < 3:\n",
    "    print(\"Guess the number\")\n",
    "    guess = input()\n",
    "    guess = int(guess)\n",
    "\n",
    "    guessestaken =guessestaken + 1\n",
    "\n",
    "    if guess < num:\n",
    "        print(\"Your guess is too low\")\n",
    "    if guess > num:\n",
    "        print(\"Your guess is too high\")\n",
    "    if guess == num:\n",
    "        break\n",
    "\n",
    "if guess == num:\n",
    "    guessestaken =str(guessestaken)\n",
    "    print(\"You guessed it in\" \" \" +guessestaken+ \" \" 'guesses')\n",
    "if guess != num:\n",
    "    guessestaken =str(guessestaken)\n",
    "    print(\"You took all the guesses the number was\" \" \"+str(num))\n"
   ]
  },
  {
   "cell_type": "code",
   "execution_count": null,
   "metadata": {},
   "outputs": [],
   "source": [
    "def favorite_book(title):\n",
    "    print(\"One of my fav books is \"+title)\n",
    "\n",
    "favorite_book(\"seven stage of men\")"
   ]
  },
  {
   "cell_type": "code",
   "execution_count": 2,
   "metadata": {},
   "outputs": [
    {
     "name": "stdout",
     "output_type": "stream",
     "text": [
      "One of my fav books is seven stage of men\n"
     ]
    }
   ],
   "source": [
    "def favorite_book(title):\n",
    "    print(\"One of my fav books is \"+title)\n",
    "\n",
    "favorite_book(\"seven stage of men\")"
   ]
  },
  {
   "cell_type": "code",
   "execution_count": null,
   "metadata": {},
   "outputs": [],
   "source": []
  }
 ],
 "metadata": {
  "kernelspec": {
   "display_name": "Python 3",
   "language": "python",
   "name": "python3"
  },
  "language_info": {
   "codemirror_mode": {
    "name": "ipython",
    "version": 3
   },
   "file_extension": ".py",
   "mimetype": "text/x-python",
   "name": "python",
   "nbconvert_exporter": "python",
   "pygments_lexer": "ipython3",
   "version": "3.7.4"
  }
 },
 "nbformat": 4,
 "nbformat_minor": 2
}
